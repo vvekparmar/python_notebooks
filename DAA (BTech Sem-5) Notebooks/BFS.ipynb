{
 "cells": [
  {
   "cell_type": "code",
   "execution_count": 48,
   "metadata": {
    "colab": {},
    "colab_type": "code",
    "id": "Evs3DpV2Zxip"
   },
   "outputs": [],
   "source": [
    "from collections import defaultdict \n",
    "class Graph: \n",
    "    def __init__(self): \n",
    "        self.graph = defaultdict(list)  \n",
    "    \n",
    "    def addEdge(self,u,v):\n",
    "        self.graph[u].append(v)\n",
    "        self\n",
    "    \n",
    "    def BFSAlgorithm(self,start):\n",
    "        visited = [False] * (len(self.graph)) \n",
    "        queue = [] \n",
    "        queue.append(start) \n",
    "        visited[start] = True\n",
    "        while queue: \n",
    "            start = queue.pop(0) \n",
    "            print (start, end = \" \") \n",
    "            for i in self.graph[start]:\n",
    "                if visited[i] == False: \n",
    "                    queue.append(i) \n",
    "                    visited[i] = True\n"
   ]
  },
  {
   "cell_type": "code",
   "execution_count": 49,
   "metadata": {},
   "outputs": [
    {
     "name": "stdout",
     "output_type": "stream",
     "text": [
      "0 1 2 4 3 "
     ]
    }
   ],
   "source": [
    "gObj = Graph()\n",
    "gObj.addEdge(0,1)\n",
    "gObj.addEdge(1,2)\n",
    "gObj.addEdge(2,3)\n",
    "gObj.addEdge(3,4)\n",
    "gObj.addEdge(4,0)\n",
    "gObj.addEdge(1,4)\n",
    "gObj.addEdge(1,3)\n",
    "gObj.BFSAlgorithm(0)"
   ]
  },
  {
   "cell_type": "code",
   "execution_count": null,
   "metadata": {},
   "outputs": [],
   "source": []
  }
 ],
 "metadata": {
  "colab": {
   "collapsed_sections": [],
   "name": "changeProblem.ipynb",
   "provenance": []
  },
  "kernelspec": {
   "display_name": "Python 3",
   "language": "python",
   "name": "python3"
  },
  "language_info": {
   "codemirror_mode": {
    "name": "ipython",
    "version": 3
   },
   "file_extension": ".py",
   "mimetype": "text/x-python",
   "name": "python",
   "nbconvert_exporter": "python",
   "pygments_lexer": "ipython3",
   "version": "3.8.3"
  }
 },
 "nbformat": 4,
 "nbformat_minor": 4
}
