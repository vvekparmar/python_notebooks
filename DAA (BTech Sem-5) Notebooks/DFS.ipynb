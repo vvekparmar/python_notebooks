{
 "cells": [
  {
   "cell_type": "code",
   "execution_count": 5,
   "metadata": {
    "colab": {},
    "colab_type": "code",
    "id": "Evs3DpV2Zxip"
   },
   "outputs": [],
   "source": [
    "from collections import defaultdict \n",
    "class Graph: \n",
    "    def __init__(self):  \n",
    "        self.graph = defaultdict(list) \n",
    "        \n",
    "    def addEdge(self, u, v): \n",
    "        self.graph[u].append(v) \n",
    "       # self.graph[v].append(u) #undirected graph\n",
    "    \n",
    "    def depth(self, v, visited): \n",
    "        visited[v] = True\n",
    "        print(v, end = ' ') \n",
    "        for i in self.graph[v]: \n",
    "            if visited[i] == False: \n",
    "                self.depth(i, visited) \n",
    "    \n",
    "    def DFSAlgorithm(self, v): \n",
    "        visited = [False] * (max(self.graph)+1) \n",
    "        self.depth(v, visited) \n"
   ]
  },
  {
   "cell_type": "code",
   "execution_count": 8,
   "metadata": {},
   "outputs": [
    {
     "name": "stdout",
     "output_type": "stream",
     "text": [
      "0 1 2 3 4 "
     ]
    }
   ],
   "source": [
    "gObj = Graph()\n",
    "gObj.addEdge(0,1)\n",
    "gObj.addEdge(1,2)\n",
    "gObj.addEdge(2,3)\n",
    "gObj.addEdge(3,4)\n",
    "gObj.addEdge(4,0)\n",
    "gObj.addEdge(1,4)\n",
    "gObj.addEdge(1,3)\n",
    "gObj.DFSAlgorithm(0)"
   ]
  },
  {
   "cell_type": "code",
   "execution_count": null,
   "metadata": {},
   "outputs": [],
   "source": []
  }
 ],
 "metadata": {
  "colab": {
   "collapsed_sections": [],
   "name": "changeProblem.ipynb",
   "provenance": []
  },
  "kernelspec": {
   "display_name": "Python 3",
   "language": "python",
   "name": "python3"
  },
  "language_info": {
   "codemirror_mode": {
    "name": "ipython",
    "version": 3
   },
   "file_extension": ".py",
   "mimetype": "text/x-python",
   "name": "python",
   "nbconvert_exporter": "python",
   "pygments_lexer": "ipython3",
   "version": "3.8.3"
  }
 },
 "nbformat": 4,
 "nbformat_minor": 4
}
